{
 "cells": [
  {
   "cell_type": "code",
   "execution_count": 5,
   "metadata": {},
   "outputs": [
    {
     "data": {
      "text/plain": [
       "<matplotlib.axes._subplots.AxesSubplot at 0x20a18bbef98>"
      ]
     },
     "execution_count": 5,
     "metadata": {},
     "output_type": "execute_result"
    },
    {
     "data": {
      "image/png": "[encoded data removed]",
      "text/plain": [
       "<Figure size 720x360 with 1 Axes>"
      ]
     },
     "metadata": {
      "needs_background": "light"
     },
     "output_type": "display_data"
    }
   ],
   "source": [
    "import numpy as np; np.random.seed(sum(map(ord, 'calmap')))\n",
    "import pandas as pd\n",
    "import calplot\n",
    "import matplotlib.pyplot as plt\n",
    "\n",
    "all_days = pd.date_range('1/15/2014', periods=700, freq='D')\n",
    "days = np.random.choice(all_days, 500)\n",
    "events = pd.Series(np.random.randn(len(days)), index=days)\n",
    "plt.figure(figsize=(10,5))\n",
    "calplot.yearplot(events, year=2015)"
   ]
  },
  {
   "cell_type": "code",
   "execution_count": null,
   "metadata": {},
   "outputs": [],
   "source": [
    "date_heatmap(events)"
   ]
  },
  {
   "cell_type": "code",
   "execution_count": null,
   "metadata": {},
   "outputs": [],
   "source": [
    "data = np.random.randint(5, size=365)\n",
    "data = pd.Series(data)\n",
    "data.index = pd.DatetimeIndex(start='2017-01-01', end='2017-12-31', freq='1D')"
   ]
  },
  {
   "cell_type": "code",
   "execution_count": null,
   "metadata": {},
   "outputs": [],
   "source": [
    "date_heatmap(events)"
   ]
  },
  {
   "cell_type": "code",
   "execution_count": null,
   "metadata": {},
   "outputs": [],
   "source": [
    "import numpy as np\n",
    "import pandas as pd\n",
    "import matplotlib as mpl\n",
    "import matplotlib.pyplot as plt\n",
    "\n",
    "\n",
    "DAYS = ['Sun.', 'Mon.', 'Tues.', 'Wed.', 'Thurs.', 'Fri.', 'Sat.']\n",
    "MONTHS = ['Jan.', 'Feb.', 'Mar.', 'Apr.', 'May', 'June', 'July', 'Aug.', 'Sept.', 'Oct.', 'Nov.', 'Dec.']\n",
    "\n",
    "\n",
    "def date_heatmap(series, start=None, end=None, mean=False, ax=None, **kwargs):\n",
    "    '''Plot a calendar heatmap given a datetime series.\n",
    "\n",
    "    Arguments:\n",
    "        series (pd.Series):\n",
    "            A series of numeric values with a datetime index. Values occurring\n",
    "            on the same day are combined by sum.\n",
    "        start (Any):\n",
    "            The first day to be considered in the plot. The value can be\n",
    "            anything accepted by :func:`pandas.to_datetime`. The default is the\n",
    "            earliest date in the data.\n",
    "        end (Any):\n",
    "            The last day to be considered in the plot. The value can be\n",
    "            anything accepted by :func:`pandas.to_datetime`. The default is the\n",
    "            latest date in the data.\n",
    "        mean (bool):\n",
    "            Combine values occurring on the same day by mean instead of sum.\n",
    "        ax (matplotlib.Axes or None):\n",
    "            The axes on which to draw the heatmap. The default is the current\n",
    "            axes in the :module:`~matplotlib.pyplot` API.\n",
    "        **kwargs:\n",
    "            Forwarded to :meth:`~matplotlib.Axes.pcolormesh` for drawing the\n",
    "            heatmap.\n",
    "\n",
    "    Returns:\n",
    "        matplotlib.collections.Axes:\n",
    "            The axes on which the heatmap was drawn. This is set as the current\n",
    "            axes in the `~matplotlib.pyplot` API.\n",
    "    '''\n",
    "    # Combine values occurring on the same day.\n",
    "    dates = series.index.floor('D')\n",
    "    group = series.groupby(dates)\n",
    "    series = group.mean() if mean else group.sum()\n",
    "\n",
    "    # Parse start/end, defaulting to the min/max of the index.\n",
    "    start = pd.to_datetime(start or series.index.min())\n",
    "    end = pd.to_datetime(end or series.index.max())\n",
    "\n",
    "    # We use [start, end) as a half-open interval below.\n",
    "    end += np.timedelta64(1, 'D')\n",
    "\n",
    "    # Get the previous/following Sunday to start/end.\n",
    "    # Pandas and numpy day-of-week conventions are Monday=0 and Sunday=6.\n",
    "    start_sun = start - np.timedelta64((start.dayofweek + 1) % 7, 'D')\n",
    "    end_sun = end + np.timedelta64(7 - end.dayofweek - 1, 'D')\n",
    "\n",
    "    # Create the heatmap and track ticks.\n",
    "    num_weeks = (end_sun - start_sun).days // 7\n",
    "    heatmap = np.zeros((7, num_weeks))\n",
    "    ticks = {}  # week number -> month name\n",
    "    for week in range(num_weeks):\n",
    "        for day in range(7):\n",
    "            date = start_sun + np.timedelta64(7 * week + day, 'D')\n",
    "            if date.day == 1:\n",
    "                ticks[week] = MONTHS[date.month - 1]\n",
    "            if date.dayofyear == 1:\n",
    "                ticks[week] += f'\\n{date.year}'\n",
    "            if start <= date < end:\n",
    "                heatmap[day, week] = series.get(date, 0)\n",
    "\n",
    "    # Get the coordinates, offset by 0.5 to align the ticks.\n",
    "    y = np.arange(8) - 0.5\n",
    "    x = np.arange(num_weeks + 1) - 0.5\n",
    "\n",
    "    # Plot the heatmap. Prefer pcolormesh over imshow so that the figure can be\n",
    "    # vectorized when saved to a compatible format. We must invert the axis for\n",
    "    # pcolormesh, but not for imshow, so that it reads top-bottom, left-right.\n",
    "    ax = ax or plt.gca()\n",
    "    mesh = ax.pcolormesh(x, y, heatmap, **kwargs)\n",
    "    ax.invert_yaxis()\n",
    "\n",
    "    # Set the ticks.\n",
    "    ax.set_xticks(list(ticks.keys()))\n",
    "    ax.set_xticklabels(list(ticks.values()))\n",
    "    ax.set_yticks(np.arange(7))\n",
    "    ax.set_yticklabels(DAYS)\n",
    "\n",
    "    # Set the current image and axes in the pyplot API.\n",
    "    plt.sca(ax)\n",
    "    plt.sci(mesh)\n",
    "\n",
    "    return ax\n",
    "\n",
    "\n",
    "def date_heatmap_demo():\n",
    "    '''An example for `date_heatmap`.\n",
    "\n",
    "    Most of the sizes here are chosen arbitrarily to look nice with 1yr of\n",
    "    data. You may need to fiddle with the numbers to look right on other data.\n",
    "    '''\n",
    "    # Get some data, a series of values with datetime index.\n",
    "    data = np.random.randint(5, size=365)\n",
    "    data = pd.Series(data)\n",
    "    data.index = pd.DatetimeIndex(start='2017-01-01', end='2017-12-31', freq='1D')\n",
    "\n",
    "    # Create the figure. For the aspect ratio, one year is 7 days by 53 weeks.\n",
    "    # We widen it further to account for the tick labels and color bar.\n",
    "    figsize = plt.figaspect(7 / 56)\n",
    "    fig = plt.figure(figsize=figsize)\n",
    "\n",
    "    # Plot the heatmap with a color bar.\n",
    "    ax = date_heatmap(data, edgecolor='black')\n",
    "    plt.colorbar(ticks=range(5), pad=0.02)\n",
    "\n",
    "    # Use a discrete color map with 5 colors (the data ranges from 0 to 4).\n",
    "    # Extending the color limits by 0.5 aligns the ticks in the color bar.\n",
    "    cmap = mpl.cm.get_cmap('Blues', 5)\n",
    "    plt.set_cmap(cmap)\n",
    "    plt.clim(-0.5, 4.5)\n",
    "\n",
    "    # Force the cells to be square. If this is set, the size of the color bar\n",
    "    # may look weird compared to the size of the heatmap. That can be corrected\n",
    "    # by the aspect ratio of the figure or scale of the color bar.\n",
    "    ax.set_aspect('equal')\n",
    "\n",
    "    # Save to a file. For embedding in a LaTeX doc, consider the PGF backend.\n",
    "    # http://sbillaudelle.de/2015/02/23/seamlessly-embedding-matplotlib-output-into-latex.html\n",
    "    #fig.savefig('heatmap.pdf', bbox_inches='tight')\n",
    "    plt.show()\n",
    "\n",
    "    # The firgure must be explicitly closed if it was not shown.\n",
    "    plt.close(fig)"
   ]
  },
  {
   "cell_type": "code",
   "execution_count": null,
   "metadata": {},
   "outputs": [],
   "source": [
    "date_heatmap_demo()"
   ]
  },
  {
   "cell_type": "code",
   "execution_count": null,
   "metadata": {},
   "outputs": [],
   "source": [
    "plt.show()"
   ]
  },
  {
   "cell_type": "code",
   "execution_count": null,
   "metadata": {},
   "outputs": [],
   "source": []
  }
 ],
 "metadata": {
  "kernelspec": {
   "display_name": "PyCharm (causal_inference_project)",
   "language": "python",
   "name": "pycharm-fb805109"
  },
  "language_info": {
   "codemirror_mode": {
    "name": "ipython",
    "version": 3
   },
   "file_extension": ".py",
   "mimetype": "text/x-python",
   "name": "python",
   "nbconvert_exporter": "python",
   "pygments_lexer": "ipython3",
   "version": "3.7.0"
  }
 },
 "nbformat": 4,
 "nbformat_minor": 4
}
