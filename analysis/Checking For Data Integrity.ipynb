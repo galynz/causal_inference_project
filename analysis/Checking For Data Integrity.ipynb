{
 "cells": [
  {
   "cell_type": "code",
   "execution_count": 96,
   "metadata": {},
   "outputs": [],
   "source": [
    "import pandas as pd\n",
    "import json\n",
    "import ndjson\n",
    "import dask.bag as db\n",
    "from dask.diagnostics import ProgressBar"
   ]
  },
  {
   "cell_type": "code",
   "execution_count": 97,
   "metadata": {},
   "outputs": [],
   "source": [
    "user_tweets_bag = db.read_text(\"D:/Research/causal_inference_data2/retweeters/*.ndjson\").map(json.loads)\n",
    "user_retweets = user_tweets_bag.to_dataframe(meta={\n",
    "    \"id\": \"int64\", \n",
    "    \"user\": \"object\", \n",
    "    \"created_at\": \"datetime64[ns, UTC]\"\n",
    "})"
   ]
  },
  {
   "cell_type": "code",
   "execution_count": 100,
   "metadata": {},
   "outputs": [
    {
     "name": "stdout",
     "output_type": "stream",
     "text": [
      "[########################################] | 100% Completed |  2hr 27min 32.4s\n"
     ]
    }
   ],
   "source": [
    "counts = user_retweets.groupby(\"id\")[\"user\"].count()\n",
    "with ProgressBar():\n",
    "    res = counts.max().compute()"
   ]
  },
  {
   "cell_type": "code",
   "execution_count": 101,
   "metadata": {},
   "outputs": [
    {
     "data": {
      "text/plain": [
       "1"
      ]
     },
     "execution_count": 101,
     "metadata": {},
     "output_type": "execute_result"
    }
   ],
   "source": [
    "res"
   ]
  },
  {
   "cell_type": "code",
   "execution_count": 8,
   "metadata": {},
   "outputs": [],
   "source": [
    "tweets = pd.DataFrame(ndjson.load(open(\"D:/Research/causal_inference_data2/realDonaldTrump.ndjson\")))\n",
    "retweets = json.load(open(\"D:/Research/causal_inference_data2/realDonaldTrump.ndjson.retweets.json\"))"
   ]
  },
  {
   "cell_type": "code",
   "execution_count": 150,
   "metadata": {},
   "outputs": [],
   "source": [
    "import matplotlib.pyplot as plt\n",
    "import seaborn as sns\n",
    "import numpy as np"
   ]
  },
  {
   "cell_type": "code",
   "execution_count": 104,
   "metadata": {},
   "outputs": [],
   "source": [
    "from collections import Counter\n",
    "from itertools import chain\n",
    "\n",
    "res = Counter(chain(*retweets.values()))"
   ]
  },
  {
   "cell_type": "code",
   "execution_count": 134,
   "metadata": {},
   "outputs": [],
   "source": [
    "sns.set_context(\"talk\")"
   ]
  },
  {
   "cell_type": "code",
   "execution_count": 173,
   "metadata": {},
   "outputs": [
    {
     "data": {
      "text/html": [
       "<style  type=\"text/css\" >\n",
       "    #T_f6a378e4_41e3_11ea_ae4c_8026891cb9e5row0_col0 {\n",
       "            width:  10em;\n",
       "             height:  80%;\n",
       "            background:  linear-gradient(90deg,#d65f5f 100.0%, transparent 100.0%);\n",
       "        }    #T_f6a378e4_41e3_11ea_ae4c_8026891cb9e5row1_col0 {\n",
       "            width:  10em;\n",
       "             height:  80%;\n",
       "            background:  linear-gradient(90deg,#d65f5f 27.7%, transparent 27.7%);\n",
       "        }    #T_f6a378e4_41e3_11ea_ae4c_8026891cb9e5row2_col0 {\n",
       "            width:  10em;\n",
       "             height:  80%;\n",
       "            background:  linear-gradient(90deg,#d65f5f 6.2%, transparent 6.2%);\n",
       "        }</style><table id=\"T_f6a378e4_41e3_11ea_ae4c_8026891cb9e5\" ><thead>    <tr>        <th class=\"blank level0\" ></th>        <th class=\"col_heading level0 col0\" >Retweet Count</th>    </tr></thead><tbody>\n",
       "                <tr>\n",
       "                        <th id=\"T_f6a378e4_41e3_11ea_ae4c_8026891cb9e5level0_row0\" class=\"row_heading level0 row0\" >(0.0, 1.0]</th>\n",
       "                        <td id=\"T_f6a378e4_41e3_11ea_ae4c_8026891cb9e5row0_col0\" class=\"data row0 col0\" >9218</td>\n",
       "            </tr>\n",
       "            <tr>\n",
       "                        <th id=\"T_f6a378e4_41e3_11ea_ae4c_8026891cb9e5level0_row1\" class=\"row_heading level0 row1\" >(1.0, 5.0]</th>\n",
       "                        <td id=\"T_f6a378e4_41e3_11ea_ae4c_8026891cb9e5row1_col0\" class=\"data row1 col0\" >2555</td>\n",
       "            </tr>\n",
       "            <tr>\n",
       "                        <th id=\"T_f6a378e4_41e3_11ea_ae4c_8026891cb9e5level0_row2\" class=\"row_heading level0 row2\" >(5.0, inf]</th>\n",
       "                        <td id=\"T_f6a378e4_41e3_11ea_ae4c_8026891cb9e5row2_col0\" class=\"data row2 col0\" >573</td>\n",
       "            </tr>\n",
       "    </tbody></table>"
      ],
      "text/plain": [
       "<pandas.io.formats.style.Styler at 0x2707f1ea208>"
      ]
     },
     "execution_count": 173,
     "metadata": {},
     "output_type": "execute_result"
    }
   ],
   "source": [
    "cm = sns.light_palette(\"Blue\", as_cmap=True)\n",
    "\n",
    "s = pd.Series(res)\n",
    "#.to_excel(r\"D:\\Research\\causal_inference_data2\\retweets_count_by_user.xlsx\")\n",
    "s.groupby(pd.cut(s, bins=[0,1,5, np.Inf])).count().to_frame(\"Retweet Count\").style.bar(vmin=0)"
   ]
  },
  {
   "cell_type": "code",
   "execution_count": 146,
   "metadata": {},
   "outputs": [],
   "source": [
    "pd.cut?"
   ]
  },
  {
   "cell_type": "code",
   "execution_count": 142,
   "metadata": {},
   "outputs": [
    {
     "data": {
      "image/png": "[encoded data removed]",
      "text/plain": [
       "<Figure size 720x576 with 1 Axes>"
      ]
     },
     "metadata": {
      "needs_background": "light"
     },
     "output_type": "display_data"
    }
   ],
   "source": [
    "plt.figure(figsize=(10, 8))\n",
    "ax = sns.distplot(pd.Series(res), hist=True, norm_hist=True, kde=False, rug=False)\n",
    "ax.set_title(\"Histogram of Retweets Per User\")\n",
    "ax.set_yscale('log')\n",
    "ax.grid()\n",
    "sns.despine()"
   ]
  },
  {
   "cell_type": "code",
   "execution_count": 118,
   "metadata": {},
   "outputs": [
    {
     "data": {
      "text/plain": [
       "Text(0.5, 1.0, 'Histogram of Retweets Per User')"
      ]
     },
     "execution_count": 118,
     "metadata": {},
     "output_type": "execute_result"
    },
    {
     "data": {
      "image/png": "[encoded data removed]",
      "text/plain": [
       "<Figure size 1440x360 with 1 Axes>"
      ]
     },
     "metadata": {
      "needs_background": "light"
     },
     "output_type": "display_data"
    }
   ],
   "source": [
    "fig = plt.figure(figsize=(20,5))\n",
    "pd.Series(res).value_counts().plot(kind=\"bar\", rot=45, logy=True)\n",
    "plt.title(\"Histogram of Retweets Per User\")"
   ]
  },
  {
   "cell_type": "code",
   "execution_count": 53,
   "metadata": {},
   "outputs": [
    {
     "data": {
      "text/plain": [
       "1"
      ]
     },
     "execution_count": 53,
     "metadata": {},
     "output_type": "execute_result"
    }
   ],
   "source": [
    "(num_retweeters == 100).sum()"
   ]
  },
  {
   "cell_type": "code",
   "execution_count": 26,
   "metadata": {},
   "outputs": [],
   "source": [
    "retweeted = tweets.set_index(\"id_str\")[num_retweeters == 0][\"retweeted_status\"].apply(lambda tweet: tweet[\"id\"]).unique()"
   ]
  },
  {
   "cell_type": "code",
   "execution_count": 93,
   "metadata": {},
   "outputs": [
    {
     "data": {
      "text/plain": [
       "426"
      ]
     },
     "execution_count": 93,
     "metadata": {},
     "output_type": "execute_result"
    }
   ],
   "source": [
    "len(tweets.set_index(\"id_str\")[num_retweeters > 0])"
   ]
  },
  {
   "cell_type": "code",
   "execution_count": 30,
   "metadata": {},
   "outputs": [
    {
     "data": {
      "text/plain": [
       "541"
      ]
     },
     "execution_count": 30,
     "metadata": {},
     "output_type": "execute_result"
    }
   ],
   "source": [
    "len(set(retweeted) - set(tweets[\"id\"].unique()))"
   ]
  },
  {
   "cell_type": "code",
   "execution_count": 44,
   "metadata": {},
   "outputs": [],
   "source": [
    "retweeted = tweets.set_index(\"id_str\")[num_retweeters == 0][\"retweeted_status\"].apply(\n",
    "    lambda tweet: pd.Series({\n",
    "        \"id\": tweet[\"id\"], \n",
    "        \"screen_name\": tweet[\"user\"][\"screen_name\"], \n",
    "        \"created_at\": tweet[\"created_at\"]\n",
    "    })\n",
    ")"
   ]
  },
  {
   "cell_type": "code",
   "execution_count": 42,
   "metadata": {},
   "outputs": [
    {
     "data": {
      "text/plain": [
       "{1157094637624070144,\n",
       " 1198027285921697793,\n",
       " 1207055996687921152,\n",
       " 1207277859519238154}"
      ]
     },
     "execution_count": 42,
     "metadata": {},
     "output_type": "execute_result"
    }
   ],
   "source": [
    "set(retweeted.loc[retweeted[\"screen_name\"] == \"realDonaldTrump\", \"id\"].unique()) - set(tweets[\"id\"].unique())"
   ]
  },
  {
   "cell_type": "code",
   "execution_count": 46,
   "metadata": {},
   "outputs": [
    {
     "data": {
      "text/html": [
       "<div>\n",
       "<style scoped>\n",
       "    .dataframe tbody tr th:only-of-type {\n",
       "        vertical-align: middle;\n",
       "    }\n",
       "\n",
       "    .dataframe tbody tr th {\n",
       "        vertical-align: top;\n",
       "    }\n",
       "\n",
       "    .dataframe thead th {\n",
       "        text-align: right;\n",
       "    }\n",
       "</style>\n",
       "<table border=\"1\" class=\"dataframe\">\n",
       "  <thead>\n",
       "    <tr style=\"text-align: right;\">\n",
       "      <th></th>\n",
       "      <th>id</th>\n",
       "      <th>screen_name</th>\n",
       "      <th>created_at</th>\n",
       "    </tr>\n",
       "    <tr>\n",
       "      <th>id_str</th>\n",
       "      <th></th>\n",
       "      <th></th>\n",
       "      <th></th>\n",
       "    </tr>\n",
       "  </thead>\n",
       "  <tbody>\n",
       "    <tr>\n",
       "      <th>1218168098966179842</th>\n",
       "      <td>1157094637624070144</td>\n",
       "      <td>realDonaldTrump</td>\n",
       "      <td>Fri Aug 02 01:03:54 +0000 2019</td>\n",
       "    </tr>\n",
       "    <tr>\n",
       "      <th>1211799266974478337</th>\n",
       "      <td>1198027285921697793</td>\n",
       "      <td>realDonaldTrump</td>\n",
       "      <td>Fri Nov 22 23:55:37 +0000 2019</td>\n",
       "    </tr>\n",
       "    <tr>\n",
       "      <th>1207723800823042050</th>\n",
       "      <td>1207055996687921152</td>\n",
       "      <td>realDonaldTrump</td>\n",
       "      <td>Tue Dec 17 21:52:30 +0000 2019</td>\n",
       "    </tr>\n",
       "    <tr>\n",
       "      <th>1207323726498402310</th>\n",
       "      <td>1207277859519238154</td>\n",
       "      <td>realDonaldTrump</td>\n",
       "      <td>Wed Dec 18 12:34:06 +0000 2019</td>\n",
       "    </tr>\n",
       "  </tbody>\n",
       "</table>\n",
       "</div>"
      ],
      "text/plain": [
       "                                      id      screen_name  \\\n",
       "id_str                                                      \n",
       "1218168098966179842  1157094637624070144  realDonaldTrump   \n",
       "1211799266974478337  1198027285921697793  realDonaldTrump   \n",
       "1207723800823042050  1207055996687921152  realDonaldTrump   \n",
       "1207323726498402310  1207277859519238154  realDonaldTrump   \n",
       "\n",
       "                                         created_at  \n",
       "id_str                                               \n",
       "1218168098966179842  Fri Aug 02 01:03:54 +0000 2019  \n",
       "1211799266974478337  Fri Nov 22 23:55:37 +0000 2019  \n",
       "1207723800823042050  Tue Dec 17 21:52:30 +0000 2019  \n",
       "1207323726498402310  Wed Dec 18 12:34:06 +0000 2019  "
      ]
     },
     "execution_count": 46,
     "metadata": {},
     "output_type": "execute_result"
    }
   ],
   "source": [
    "retweeted[retweeted[\"id\"].isin({1157094637624070144,\n",
    " 1198027285921697793,\n",
    " 1207055996687921152,\n",
    " 1207277859519238154})]"
   ]
  },
  {
   "cell_type": "code",
   "execution_count": 47,
   "metadata": {},
   "outputs": [
    {
     "data": {
      "text/plain": [
       "'Fri Dec 20 00:16:46 +0000 2019'"
      ]
     },
     "execution_count": 47,
     "metadata": {},
     "output_type": "execute_result"
    }
   ],
   "source": [
    "tweets[\"created_at\"].min()"
   ]
  },
  {
   "cell_type": "code",
   "execution_count": 54,
   "metadata": {},
   "outputs": [],
   "source": [
    "import tweepy\n",
    "CONSUMER_KEY=\"KQSoi13Fwql2VBwt5w4Fvwjuy\"\n",
    "CONSUMER_SECRET=\"pVEfydFKvFTwbBET7xiN22Q33UZXmUsWhlMy7P5IFvFWiH0CrH\"\n",
    "ACCESS_KEY=\"763797240561491968-HLCYojPtDbgISJa5ajjSuRlNYyPZI0m\"\n",
    "ACCESS_KEY_SECRET=\"Js2MSoe3UWHYCeaIOwB4EtTuaaXxJ6mJ98poXHG65rbY9\"\n",
    "\n",
    "auth = tweepy.OAuthHandler(CONSUMER_KEY, CONSUMER_SECRET)\n",
    "auth.set_access_token(ACCESS_KEY, ACCESS_KEY_SECRET)\n",
    "\n",
    "api = tweepy.API(auth, wait_on_rate_limit=True, wait_on_rate_limit_notify=True, api_root=\"/1.1\", search_root=)"
   ]
  },
  {
   "cell_type": "code",
   "execution_count": 59,
   "metadata": {},
   "outputs": [],
   "source": [
    "tweet = api.statuses_lookup([\"1218168098966179842\"])"
   ]
  },
  {
   "cell_type": "code",
   "execution_count": 61,
   "metadata": {},
   "outputs": [],
   "source": [
    "a = tweet[0]"
   ]
  },
  {
   "cell_type": "code",
   "execution_count": 64,
   "metadata": {},
   "outputs": [
    {
     "name": "stdout",
     "output_type": "stream",
     "text": [
      "dict_keys(['created_at', 'id', 'id_str', 'text', 'truncated', 'entities', 'source', 'in_reply_to_status_id', 'in_reply_to_status_id_str', 'in_reply_to_user_id', 'in_reply_to_user_id_str', 'in_reply_to_screen_name', 'user', 'geo', 'coordinates', 'place', 'contributors', 'retweeted_status', 'is_quote_status', 'retweet_count', 'favorite_count', 'favorited', 'retweeted', 'possibly_sensitive', 'lang'])\n"
     ]
    }
   ],
   "source": [
    "print(a._json.keys())"
   ]
  },
  {
   "cell_type": "code",
   "execution_count": 73,
   "metadata": {},
   "outputs": [
    {
     "data": {
      "text/plain": [
       "dict_keys(['created_at', 'id', 'id_str', 'text', 'truncated', 'entities', 'source', 'in_reply_to_status_id', 'in_reply_to_status_id_str', 'in_reply_to_user_id', 'in_reply_to_user_id_str', 'in_reply_to_screen_name', 'user', 'geo', 'coordinates', 'place', 'contributors', 'is_quote_status', 'retweet_count', 'favorite_count', 'favorited', 'retweeted', 'possibly_sensitive', 'lang'])"
      ]
     },
     "execution_count": 73,
     "metadata": {},
     "output_type": "execute_result"
    }
   ],
   "source": [
    "a.retweeted_status._json.keys()"
   ]
  },
  {
   "cell_type": "code",
   "execution_count": 75,
   "metadata": {},
   "outputs": [
    {
     "data": {
      "text/plain": [
       "'Thank you Cincinnati, Ohio. Together, we are going to KEEP AMERICA GREAT! https://t.co/sKPAW8e8qN'"
      ]
     },
     "execution_count": 75,
     "metadata": {},
     "output_type": "execute_result"
    }
   ],
   "source": [
    "a.retweeted_status.id"
   ]
  },
  {
   "cell_type": "code",
   "execution_count": 77,
   "metadata": {},
   "outputs": [],
   "source": [
    "a.in_reply_to_user_id"
   ]
  },
  {
   "cell_type": "code",
   "execution_count": 83,
   "metadata": {},
   "outputs": [
    {
     "name": "stdout",
     "output_type": "stream",
     "text": [
      "47\n"
     ]
    }
   ],
   "source": [
    "for page in tweepy.Cursor(api.retweeters, id=a.retweeted_status.id).pages():\n",
    "    print(len(page))"
   ]
  },
  {
   "cell_type": "code",
   "execution_count": 88,
   "metadata": {},
   "outputs": [],
   "source": [
    "a.retweeted_status.place"
   ]
  },
  {
   "cell_type": "code",
   "execution_count": 89,
   "metadata": {},
   "outputs": [],
   "source": [
    "import requests"
   ]
  },
  {
   "cell_type": "code",
   "execution_count": null,
   "metadata": {},
   "outputs": [],
   "source": [
    "\"https://api.twitter.com/1.1/statuses/home_timeline.json\""
   ]
  },
  {
   "cell_type": "code",
   "execution_count": 90,
   "metadata": {},
   "outputs": [
    {
     "data": {
      "text/plain": [
       "{'errors': [{'code': 99,\n",
       "   'message': 'Unable to verify your credentials',\n",
       "   'label': 'authenticity_token_error'}]}"
      ]
     },
     "execution_count": 90,
     "metadata": {},
     "output_type": "execute_result"
    }
   ],
   "source": [
    "resp = requests.post(\"https://api.twitter.com/oauth2/token\", data={\"grant_type\": \"client_credentials\"})\n",
    "resp.json()"
   ]
  },
  {
   "cell_type": "code",
   "execution_count": 91,
   "metadata": {},
   "outputs": [],
   "source": [
    "api.home_timeline??"
   ]
  },
  {
   "cell_type": "code",
   "execution_count": null,
   "metadata": {},
   "outputs": [],
   "source": []
  }
 ],
 "metadata": {
  "kernelspec": {
   "display_name": "PyCharm (causal_inference_project)",
   "language": "python",
   "name": "pycharm-fb805109"
  },
  "language_info": {
   "codemirror_mode": {
    "name": "ipython",
    "version": 3
   },
   "file_extension": ".py",
   "mimetype": "text/x-python",
   "name": "python",
   "nbconvert_exporter": "python",
   "pygments_lexer": "ipython3",
   "version": "3.7.0"
  }
 },
 "nbformat": 4,
 "nbformat_minor": 4
}
