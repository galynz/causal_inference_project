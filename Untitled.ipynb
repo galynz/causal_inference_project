{
 "cells": [
  {
   "cell_type": "code",
   "execution_count": 1,
   "metadata": {},
   "outputs": [],
   "source": [
    "import json"
   ]
  },
  {
   "cell_type": "code",
   "execution_count": 3,
   "metadata": {},
   "outputs": [],
   "source": [
    "with open(\"./causal_inference_data2//realDonaldTrump.ndjson.retweets.json\") as fobj:\n",
    "    retweeters = json.load(fobj)"
   ]
  },
  {
   "cell_type": "code",
   "execution_count": 4,
   "metadata": {},
   "outputs": [],
   "source": [
    "from itertools import chain\n",
    "import pandas as pd"
   ]
  },
  {
   "cell_type": "code",
   "execution_count": 7,
   "metadata": {},
   "outputs": [],
   "source": [
    "s = pd.Series(chain(*retweeters.values())).value_counts()"
   ]
  },
  {
   "cell_type": "code",
   "execution_count": 10,
   "metadata": {},
   "outputs": [],
   "source": [
    "%matplotlib inline"
   ]
  },
  {
   "cell_type": "code",
   "execution_count": 13,
   "metadata": {},
   "outputs": [],
   "source": [
    "import matplotlib.pyplot as plt"
   ]
  },
  {
   "cell_type": "code",
   "execution_count": 15,
   "metadata": {},
   "outputs": [
    {
     "data": {
      "image/png": "[encoded data removed]",
      "text/plain": [
       "<Figure size 432x288 with 1 Axes>"
      ]
     },
     "metadata": {
      "needs_background": "light"
     },
     "output_type": "display_data"
    }
   ],
   "source": [
    "s.hist(bins=100)\n",
    "plt.yscale(\"log\")"
   ]
  },
  {
   "cell_type": "code",
   "execution_count": 16,
   "metadata": {},
   "outputs": [
    {
     "data": {
      "text/plain": [
       "count    12346.000000\n",
       "mean         2.069334\n",
       "std          5.489757\n",
       "min          1.000000\n",
       "25%          1.000000\n",
       "50%          1.000000\n",
       "75%          2.000000\n",
       "max        235.000000\n",
       "dtype: float64"
      ]
     },
     "execution_count": 16,
     "metadata": {},
     "output_type": "execute_result"
    }
   ],
   "source": [
    "s.describe()"
   ]
  },
  {
   "cell_type": "code",
   "execution_count": 23,
   "metadata": {},
   "outputs": [
    {
     "data": {
      "text/plain": [
       "999"
      ]
     },
     "execution_count": 23,
     "metadata": {},
     "output_type": "execute_result"
    }
   ],
   "source": [
    "s[s >= 4].count()"
   ]
  },
  {
   "cell_type": "code",
   "execution_count": 25,
   "metadata": {},
   "outputs": [],
   "source": [
    "s1= pd.Series(retweeters).apply(len)"
   ]
  },
  {
   "cell_type": "code",
   "execution_count": 29,
   "metadata": {},
   "outputs": [
    {
     "data": {
      "text/plain": [
       "1220692336881160193    99\n",
       "1220691878972215297     0\n",
       "1220691524784140288     0\n",
       "1220691374959362050     0\n",
       "1220690251561213952    91\n",
       "1220688087220617218    94\n",
       "1220687131292643329    96\n",
       "1220686655855693824    94\n",
       "1220686650864390145    95\n",
       "1220686068015648768     0\n",
       "1220685095855628288     0\n",
       "1220684946299289602     0\n",
       "1220684479561420806     0\n",
       "1220684374871609345     0\n",
       "1220684239496151040     0\n",
       "1220683908381138944     0\n",
       "1220683483883982849     0\n",
       "1220683416657649664     0\n",
       "1220683346130411521     0\n",
       "1220683000968622080     0\n",
       "1220682410016301057     0\n",
       "1220682393289416704     0\n",
       "1220682290356944896     0\n",
       "1220680836464488450     0\n",
       "1220680600727715841     0\n",
       "1220680528820568065     0\n",
       "1220680518632640512     0\n",
       "1220679579146379264     0\n",
       "1220679097703108608     0\n",
       "1220677956965629958     0\n",
       "                       ..\n",
       "1207515255204564993     0\n",
       "1207515245930934273     0\n",
       "1207515237450010625     0\n",
       "1207508280207011841    92\n",
       "1207434958588932096    45\n",
       "1207434514433069057    47\n",
       "1207355923573989376    43\n",
       "1207339288406503426    43\n",
       "1207339280504414212    42\n",
       "1207333331777605635    45\n",
       "1207328863430295553     0\n",
       "1207328815581671425     0\n",
       "1207328697931485189     0\n",
       "1207328567585099777     0\n",
       "1207328373791428608     0\n",
       "1207328262814388224     0\n",
       "1207327882789498880     0\n",
       "1207327810639073280     0\n",
       "1207327675460833281     0\n",
       "1207327548247609344     0\n",
       "1207327444119801856     0\n",
       "1207327108508377088    41\n",
       "1207326677325488128     0\n",
       "1207326314312671233     0\n",
       "1207325690170920962     0\n",
       "1207325357310955522    47\n",
       "1207324795274223618     0\n",
       "1207323726498402310     0\n",
       "1207323104898404360    44\n",
       "1207317586637021185    39\n",
       "Length: 997, dtype: int64"
      ]
     },
     "execution_count": 29,
     "metadata": {},
     "output_type": "execute_result"
    }
   ],
   "source": [
    "s1"
   ]
  },
  {
   "cell_type": "code",
   "execution_count": 30,
   "metadata": {},
   "outputs": [],
   "source": [
    "import tweepy"
   ]
  },
  {
   "cell_type": "code",
   "execution_count": 32,
   "metadata": {},
   "outputs": [],
   "source": [
    "CONSUMER_KEY=\"KQSoi13Fwql2VBwt5w4Fvwjuy\"\n",
    "CONSUMER_SECRET=\"pVEfydFKvFTwbBET7xiN22Q33UZXmUsWhlMy7P5IFvFWiH0CrH\"\n",
    "ACCESS_KEY=\"763797240561491968-HLCYojPtDbgISJa5ajjSuRlNYyPZI0m\"\n",
    "ACCESS_KEY_SECRET=\"Js2MSoe3UWHYCeaIOwB4EtTuaaXxJ6mJ98poXHG65rbY9\"\n",
    "\n",
    "auth = tweepy.OAuthHandler(CONSUMER_KEY, CONSUMER_SECRET)\n",
    "auth.set_access_token(ACCESS_KEY, ACCESS_KEY_SECRET)\n",
    "\n",
    "api = tweepy.API(auth, wait_on_rate_limit=True, wait_on_rate_limit_notify=True)"
   ]
  },
  {
   "cell_type": "code",
   "execution_count": 35,
   "metadata": {},
   "outputs": [],
   "source": [
    "a = api.statuses_lookup([1207515255204564993], tweet_mode=\"extended\")"
   ]
  },
  {
   "cell_type": "code",
   "execution_count": 36,
   "metadata": {},
   "outputs": [
    {
     "data": {
      "text/plain": [
       "1"
      ]
     },
     "execution_count": 36,
     "metadata": {},
     "output_type": "execute_result"
    }
   ],
   "source": [
    "len(a)"
   ]
  },
  {
   "cell_type": "code",
   "execution_count": 37,
   "metadata": {},
   "outputs": [
    {
     "data": {
      "text/plain": [
       "[]"
      ]
     },
     "execution_count": 37,
     "metadata": {},
     "output_type": "execute_result"
    }
   ],
   "source": [
    "api.retweeters(1207515255204564993)"
   ]
  },
  {
   "cell_type": "code",
   "execution_count": 38,
   "metadata": {},
   "outputs": [],
   "source": [
    "tweet = a[0]"
   ]
  },
  {
   "cell_type": "code",
   "execution_count": 42,
   "metadata": {},
   "outputs": [
    {
     "data": {
      "text/plain": [
       "'realDonaldTrump'"
      ]
     },
     "execution_count": 42,
     "metadata": {},
     "output_type": "execute_result"
    }
   ],
   "source": [
    "tweet.user.screen_name"
   ]
  },
  {
   "cell_type": "code",
   "execution_count": 43,
   "metadata": {},
   "outputs": [
    {
     "data": {
      "text/plain": [
       "17933"
      ]
     },
     "execution_count": 43,
     "metadata": {},
     "output_type": "execute_result"
    }
   ],
   "source": [
    "tweet.retweet_count"
   ]
  },
  {
   "cell_type": "code",
   "execution_count": 44,
   "metadata": {},
   "outputs": [
    {
     "data": {
      "text/plain": [
       "Status(_api=<tweepy.api.API object at 0x135569908>, _json={'created_at': 'Thu Dec 19 01:52:04 +0000 2019', 'id': 1207478676297830400, 'id_str': '1207478676297830400', 'full_text': \"🚨 BREAKING 🚨 Democrats just signed their own pink slips by voting to undo the results of the 2016 election and impeach the duly-elected President of the United States.\\n\\nLet's not let them forget what they have done.\", 'truncated': False, 'display_text_range': [0, 215], 'entities': {'hashtags': [], 'symbols': [], 'user_mentions': [], 'urls': []}, 'source': '<a href=\"http://twitter.com/download/iphone\" rel=\"nofollow\">Twitter for iPhone</a>', 'in_reply_to_status_id': None, 'in_reply_to_status_id_str': None, 'in_reply_to_user_id': None, 'in_reply_to_user_id_str': None, 'in_reply_to_screen_name': None, 'user': {'id': 19739126, 'id_str': '19739126', 'name': 'Kevin McCarthy', 'screen_name': 'GOPLeader', 'location': 'Bakersfield, CA', 'description': \"Republican Leader and Representative of California's 23rd District in the House of Representatives.\\nhttps://t.co/ZqWsqD6L0T\", 'url': 'https://t.co/eB1lud6Yi3', 'entities': {'url': {'urls': [{'url': 'https://t.co/eB1lud6Yi3', 'expanded_url': 'http://republicanleader.gov', 'display_url': 'republicanleader.gov', 'indices': [0, 23]}]}, 'description': {'urls': [{'url': 'https://t.co/ZqWsqD6L0T', 'expanded_url': 'https://www.instagram.com/repkevinmccarthy/', 'display_url': 'instagram.com/repkevinmccart…', 'indices': [100, 123]}]}}, 'protected': False, 'followers_count': 635929, 'friends_count': 1382, 'listed_count': 4666, 'created_at': 'Thu Jan 29 22:28:48 +0000 2009', 'favourites_count': 1793, 'utc_offset': None, 'time_zone': None, 'geo_enabled': True, 'verified': True, 'statuses_count': 12111, 'lang': None, 'contributors_enabled': False, 'is_translator': False, 'is_translation_enabled': False, 'profile_background_color': '3B94D9', 'profile_background_image_url': 'http://abs.twimg.com/images/themes/theme1/bg.png', 'profile_background_image_url_https': 'https://abs.twimg.com/images/themes/theme1/bg.png', 'profile_background_tile': True, 'profile_image_url': 'http://pbs.twimg.com/profile_images/1144683452064833536/fZbuxrtg_normal.png', 'profile_image_url_https': 'https://pbs.twimg.com/profile_images/1144683452064833536/fZbuxrtg_normal.png', 'profile_banner_url': 'https://pbs.twimg.com/profile_banners/19739126/1561180371', 'profile_link_color': '0A2644', 'profile_sidebar_border_color': 'FF0000', 'profile_sidebar_fill_color': 'FFFFFF', 'profile_text_color': '122C73', 'profile_use_background_image': True, 'has_extended_profile': False, 'default_profile': False, 'default_profile_image': False, 'can_media_tag': False, 'followed_by': False, 'following': False, 'follow_request_sent': False, 'notifications': False, 'translator_type': 'none'}, 'geo': None, 'coordinates': None, 'place': None, 'contributors': None, 'is_quote_status': False, 'retweet_count': 17933, 'favorite_count': 64709, 'favorited': False, 'retweeted': False, 'lang': 'en'}, created_at=datetime.datetime(2019, 12, 19, 1, 52, 4), id=1207478676297830400, id_str='1207478676297830400', full_text=\"🚨 BREAKING 🚨 Democrats just signed their own pink slips by voting to undo the results of the 2016 election and impeach the duly-elected President of the United States.\\n\\nLet's not let them forget what they have done.\", truncated=False, display_text_range=[0, 215], entities={'hashtags': [], 'symbols': [], 'user_mentions': [], 'urls': []}, source='Twitter for iPhone', source_url='http://twitter.com/download/iphone', in_reply_to_status_id=None, in_reply_to_status_id_str=None, in_reply_to_user_id=None, in_reply_to_user_id_str=None, in_reply_to_screen_name=None, author=User(_api=<tweepy.api.API object at 0x135569908>, _json={'id': 19739126, 'id_str': '19739126', 'name': 'Kevin McCarthy', 'screen_name': 'GOPLeader', 'location': 'Bakersfield, CA', 'description': \"Republican Leader and Representative of California's 23rd District in the House of Representatives.\\nhttps://t.co/ZqWsqD6L0T\", 'url': 'https://t.co/eB1lud6Yi3', 'entities': {'url': {'urls': [{'url': 'https://t.co/eB1lud6Yi3', 'expanded_url': 'http://republicanleader.gov', 'display_url': 'republicanleader.gov', 'indices': [0, 23]}]}, 'description': {'urls': [{'url': 'https://t.co/ZqWsqD6L0T', 'expanded_url': 'https://www.instagram.com/repkevinmccarthy/', 'display_url': 'instagram.com/repkevinmccart…', 'indices': [100, 123]}]}}, 'protected': False, 'followers_count': 635929, 'friends_count': 1382, 'listed_count': 4666, 'created_at': 'Thu Jan 29 22:28:48 +0000 2009', 'favourites_count': 1793, 'utc_offset': None, 'time_zone': None, 'geo_enabled': True, 'verified': True, 'statuses_count': 12111, 'lang': None, 'contributors_enabled': False, 'is_translator': False, 'is_translation_enabled': False, 'profile_background_color': '3B94D9', 'profile_background_image_url': 'http://abs.twimg.com/images/themes/theme1/bg.png', 'profile_background_image_url_https': 'https://abs.twimg.com/images/themes/theme1/bg.png', 'profile_background_tile': True, 'profile_image_url': 'http://pbs.twimg.com/profile_images/1144683452064833536/fZbuxrtg_normal.png', 'profile_image_url_https': 'https://pbs.twimg.com/profile_images/1144683452064833536/fZbuxrtg_normal.png', 'profile_banner_url': 'https://pbs.twimg.com/profile_banners/19739126/1561180371', 'profile_link_color': '0A2644', 'profile_sidebar_border_color': 'FF0000', 'profile_sidebar_fill_color': 'FFFFFF', 'profile_text_color': '122C73', 'profile_use_background_image': True, 'has_extended_profile': False, 'default_profile': False, 'default_profile_image': False, 'can_media_tag': False, 'followed_by': False, 'following': False, 'follow_request_sent': False, 'notifications': False, 'translator_type': 'none'}, id=19739126, id_str='19739126', name='Kevin McCarthy', screen_name='GOPLeader', location='Bakersfield, CA', description=\"Republican Leader and Representative of California's 23rd District in the House of Representatives.\\nhttps://t.co/ZqWsqD6L0T\", url='https://t.co/eB1lud6Yi3', entities={'url': {'urls': [{'url': 'https://t.co/eB1lud6Yi3', 'expanded_url': 'http://republicanleader.gov', 'display_url': 'republicanleader.gov', 'indices': [0, 23]}]}, 'description': {'urls': [{'url': 'https://t.co/ZqWsqD6L0T', 'expanded_url': 'https://www.instagram.com/repkevinmccarthy/', 'display_url': 'instagram.com/repkevinmccart…', 'indices': [100, 123]}]}}, protected=False, followers_count=635929, friends_count=1382, listed_count=4666, created_at=datetime.datetime(2009, 1, 29, 22, 28, 48), favourites_count=1793, utc_offset=None, time_zone=None, geo_enabled=True, verified=True, statuses_count=12111, lang=None, contributors_enabled=False, is_translator=False, is_translation_enabled=False, profile_background_color='3B94D9', profile_background_image_url='http://abs.twimg.com/images/themes/theme1/bg.png', profile_background_image_url_https='https://abs.twimg.com/images/themes/theme1/bg.png', profile_background_tile=True, profile_image_url='http://pbs.twimg.com/profile_images/1144683452064833536/fZbuxrtg_normal.png', profile_image_url_https='https://pbs.twimg.com/profile_images/1144683452064833536/fZbuxrtg_normal.png', profile_banner_url='https://pbs.twimg.com/profile_banners/19739126/1561180371', profile_link_color='0A2644', profile_sidebar_border_color='FF0000', profile_sidebar_fill_color='FFFFFF', profile_text_color='122C73', profile_use_background_image=True, has_extended_profile=False, default_profile=False, default_profile_image=False, can_media_tag=False, followed_by=False, following=False, follow_request_sent=False, notifications=False, translator_type='none'), user=User(_api=<tweepy.api.API object at 0x135569908>, _json={'id': 19739126, 'id_str': '19739126', 'name': 'Kevin McCarthy', 'screen_name': 'GOPLeader', 'location': 'Bakersfield, CA', 'description': \"Republican Leader and Representative of California's 23rd District in the House of Representatives.\\nhttps://t.co/ZqWsqD6L0T\", 'url': 'https://t.co/eB1lud6Yi3', 'entities': {'url': {'urls': [{'url': 'https://t.co/eB1lud6Yi3', 'expanded_url': 'http://republicanleader.gov', 'display_url': 'republicanleader.gov', 'indices': [0, 23]}]}, 'description': {'urls': [{'url': 'https://t.co/ZqWsqD6L0T', 'expanded_url': 'https://www.instagram.com/repkevinmccarthy/', 'display_url': 'instagram.com/repkevinmccart…', 'indices': [100, 123]}]}}, 'protected': False, 'followers_count': 635929, 'friends_count': 1382, 'listed_count': 4666, 'created_at': 'Thu Jan 29 22:28:48 +0000 2009', 'favourites_count': 1793, 'utc_offset': None, 'time_zone': None, 'geo_enabled': True, 'verified': True, 'statuses_count': 12111, 'lang': None, 'contributors_enabled': False, 'is_translator': False, 'is_translation_enabled': False, 'profile_background_color': '3B94D9', 'profile_background_image_url': 'http://abs.twimg.com/images/themes/theme1/bg.png', 'profile_background_image_url_https': 'https://abs.twimg.com/images/themes/theme1/bg.png', 'profile_background_tile': True, 'profile_image_url': 'http://pbs.twimg.com/profile_images/1144683452064833536/fZbuxrtg_normal.png', 'profile_image_url_https': 'https://pbs.twimg.com/profile_images/1144683452064833536/fZbuxrtg_normal.png', 'profile_banner_url': 'https://pbs.twimg.com/profile_banners/19739126/1561180371', 'profile_link_color': '0A2644', 'profile_sidebar_border_color': 'FF0000', 'profile_sidebar_fill_color': 'FFFFFF', 'profile_text_color': '122C73', 'profile_use_background_image': True, 'has_extended_profile': False, 'default_profile': False, 'default_profile_image': False, 'can_media_tag': False, 'followed_by': False, 'following': False, 'follow_request_sent': False, 'notifications': False, 'translator_type': 'none'}, id=19739126, id_str='19739126', name='Kevin McCarthy', screen_name='GOPLeader', location='Bakersfield, CA', description=\"Republican Leader and Representative of California's 23rd District in the House of Representatives.\\nhttps://t.co/ZqWsqD6L0T\", url='https://t.co/eB1lud6Yi3', entities={'url': {'urls': [{'url': 'https://t.co/eB1lud6Yi3', 'expanded_url': 'http://republicanleader.gov', 'display_url': 'republicanleader.gov', 'indices': [0, 23]}]}, 'description': {'urls': [{'url': 'https://t.co/ZqWsqD6L0T', 'expanded_url': 'https://www.instagram.com/repkevinmccarthy/', 'display_url': 'instagram.com/repkevinmccart…', 'indices': [100, 123]}]}}, protected=False, followers_count=635929, friends_count=1382, listed_count=4666, created_at=datetime.datetime(2009, 1, 29, 22, 28, 48), favourites_count=1793, utc_offset=None, time_zone=None, geo_enabled=True, verified=True, statuses_count=12111, lang=None, contributors_enabled=False, is_translator=False, is_translation_enabled=False, profile_background_color='3B94D9', profile_background_image_url='http://abs.twimg.com/images/themes/theme1/bg.png', profile_background_image_url_https='https://abs.twimg.com/images/themes/theme1/bg.png', profile_background_tile=True, profile_image_url='http://pbs.twimg.com/profile_images/1144683452064833536/fZbuxrtg_normal.png', profile_image_url_https='https://pbs.twimg.com/profile_images/1144683452064833536/fZbuxrtg_normal.png', profile_banner_url='https://pbs.twimg.com/profile_banners/19739126/1561180371', profile_link_color='0A2644', profile_sidebar_border_color='FF0000', profile_sidebar_fill_color='FFFFFF', profile_text_color='122C73', profile_use_background_image=True, has_extended_profile=False, default_profile=False, default_profile_image=False, can_media_tag=False, followed_by=False, following=False, follow_request_sent=False, notifications=False, translator_type='none'), geo=None, coordinates=None, place=None, contributors=None, is_quote_status=False, retweet_count=17933, favorite_count=64709, favorited=False, retweeted=False, lang='en')"
      ]
     },
     "execution_count": 44,
     "metadata": {},
     "output_type": "execute_result"
    }
   ],
   "source": [
    "tweet.retweeted_status"
   ]
  },
  {
   "cell_type": "code",
   "execution_count": null,
   "metadata": {},
   "outputs": [],
   "source": []
  }
 ],
 "metadata": {
  "kernelspec": {
   "display_name": "Python 3",
   "language": "python",
   "name": "python3"
  },
  "language_info": {
   "codemirror_mode": {
    "name": "ipython",
    "version": 3
   },
   "file_extension": ".py",
   "mimetype": "text/x-python",
   "name": "python",
   "nbconvert_exporter": "python",
   "pygments_lexer": "ipython3",
   "version": "3.7.3"
  }
 },
 "nbformat": 4,
 "nbformat_minor": 4
}
